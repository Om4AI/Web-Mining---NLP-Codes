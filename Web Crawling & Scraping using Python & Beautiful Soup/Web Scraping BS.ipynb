{
 "cells": [
  {
   "cell_type": "markdown",
   "id": "300fbe7f-c210-4f98-a0ab-81d1c47b0037",
   "metadata": {},
   "source": [
    "# *Web Scraping using Python & Beautiful Soup*"
   ]
  },
  {
   "cell_type": "code",
   "execution_count": 2,
   "id": "9696317e-d037-4129-b480-0488af99d4c7",
   "metadata": {
    "tags": []
   },
   "outputs": [],
   "source": [
    "# Import libraries\n",
    "import requests\n",
    "import html5lib\n",
    "from bs4 import BeautifulSoup\n",
    "import csv\n",
    "import pandas as pd"
   ]
  },
  {
   "cell_type": "code",
   "execution_count": 3,
   "id": "cc057cce-f3f7-4de9-b3f4-77f37d0534e0",
   "metadata": {
    "tags": []
   },
   "outputs": [],
   "source": [
    "# Functions and dependencies\n",
    "def init_csv(list):\n",
    "    file = \"ecom_data.csv\"\n",
    "    with open(file, 'w', newline='') as f:\n",
    "        w = csv.DictWriter(f, list)\n",
    "        w.writeheader()\n",
    "\n",
    "\n",
    "def scrap_url(url):\n",
    "    r = requests.get(url)\n",
    "    soup = BeautifulSoup(r.content, 'html5lib')\n",
    "    html_els = {}\n",
    "    products = {}\n",
    "\n",
    "\n",
    "    # Get elements (Product Name, Price, Discount, Image)\n",
    "    pname = soup.find('span', attrs={'class':'B_NuCI'})\n",
    "    html_els[\"Product_Name\"] = pname\n",
    "    \n",
    "    pprice = soup.find('div', attrs={'class':\"_30jeq3 _16Jk6d\"})\n",
    "    html_els[\"Product_Price\"] = pprice\n",
    "\n",
    "    pdisc = soup.find('div', attrs={'class':\"_3Ay6Sb _31Dcoz\"})\n",
    "    html_els[\"Product_Discount\"] = pdisc\n",
    "\n",
    "    pimg = soup.find('div', attrs={'class':\"CXW8mj _3nMexc\"})\n",
    "    html_els[\"Product_Image\"] = pimg\n",
    "    \n",
    "    for k in html_els.keys():\n",
    "        if(k==\"Product_Image\"):\n",
    "            for row in html_els[k]:\n",
    "                products[k] = row['src'];\n",
    "        else:\n",
    "            products[k] = html_els[k].text\n",
    "            products[k] = products[k].replace(u'\\xa0', u' ').title()\n",
    "            \n",
    "    # CSV file saving\n",
    "    with open(\"ecom_data.csv\", 'a', newline='', encoding=\"utf8\") as f:\n",
    "        wtr = csv.DictWriter(f, [\"Product_Name\", \"Product_Price\",\"Product_Discount\", \"Product_Image\"])\n",
    "        wtr.writerow(products)"
   ]
  },
  {
   "cell_type": "code",
   "execution_count": 4,
   "id": "be450d19-d5aa-42e3-b922-d3b9ee320954",
   "metadata": {},
   "outputs": [],
   "source": [
    "# Function call\n",
    "urls = open(\"URLs.txt\")\n",
    "attributes = [\"Product_Name\", \"Product_Price\",\"Product_Discount\", \"Product_Image\"]\n",
    "init_csv(attributes)\n",
    "for url in urls:\n",
    "    scrap_url(url)"
   ]
  },
  {
   "cell_type": "code",
   "execution_count": 5,
   "id": "54677113-8b75-4ef4-b078-b65d4d9324a3",
   "metadata": {},
   "outputs": [
    {
     "data": {
      "text/html": [
       "<div>\n",
       "<style scoped>\n",
       "    .dataframe tbody tr th:only-of-type {\n",
       "        vertical-align: middle;\n",
       "    }\n",
       "\n",
       "    .dataframe tbody tr th {\n",
       "        vertical-align: top;\n",
       "    }\n",
       "\n",
       "    .dataframe thead th {\n",
       "        text-align: right;\n",
       "    }\n",
       "</style>\n",
       "<table border=\"1\" class=\"dataframe\">\n",
       "  <thead>\n",
       "    <tr style=\"text-align: right;\">\n",
       "      <th></th>\n",
       "      <th>Product_Name</th>\n",
       "      <th>Product_Price</th>\n",
       "      <th>Product_Discount</th>\n",
       "      <th>Product_Image</th>\n",
       "    </tr>\n",
       "  </thead>\n",
       "  <tbody>\n",
       "    <tr>\n",
       "      <th>0</th>\n",
       "      <td>Apple Iphone 13 (Midnight, 128 Gb)</td>\n",
       "      <td>₹74,900</td>\n",
       "      <td>6% Off</td>\n",
       "      <td>https://rukminim1.flixcart.com/image/416/416/k...</td>\n",
       "    </tr>\n",
       "    <tr>\n",
       "      <th>1</th>\n",
       "      <td>Hp Pavilion Ryzen 5 Hexa Core 5600H - (8 Gb/51...</td>\n",
       "      <td>₹61,990</td>\n",
       "      <td>11% Off</td>\n",
       "      <td>https://rukminim1.flixcart.com/image/416/416/k...</td>\n",
       "    </tr>\n",
       "    <tr>\n",
       "      <th>2</th>\n",
       "      <td>Redmi Note 10S (Deep Sea Blue, 128 Gb)  (8 Gb ...</td>\n",
       "      <td>₹17,499</td>\n",
       "      <td>16% Off</td>\n",
       "      <td>https://rukminim1.flixcart.com/image/416/416/k...</td>\n",
       "    </tr>\n",
       "    <tr>\n",
       "      <th>3</th>\n",
       "      <td>Acer Nitro 5 Ryzen 5 Hexa Core 4600H - (8 Gb/1...</td>\n",
       "      <td>₹60,990</td>\n",
       "      <td>39% Off</td>\n",
       "      <td>https://rukminim1.flixcart.com/image/416/416/k...</td>\n",
       "    </tr>\n",
       "    <tr>\n",
       "      <th>4</th>\n",
       "      <td>Acer Predator Helios 300 Octa Core I7 10Th Gen...</td>\n",
       "      <td>₹1,09,990</td>\n",
       "      <td>26% Off</td>\n",
       "      <td>https://rukminim1.flixcart.com/image/416/416/k...</td>\n",
       "    </tr>\n",
       "    <tr>\n",
       "      <th>5</th>\n",
       "      <td>Haier 6.5 Kg 5 Star Ariel Wash Fully Automatic...</td>\n",
       "      <td>₹13,890</td>\n",
       "      <td>33% Off</td>\n",
       "      <td>https://rukminim1.flixcart.com/image/416/416/k...</td>\n",
       "    </tr>\n",
       "  </tbody>\n",
       "</table>\n",
       "</div>"
      ],
      "text/plain": [
       "                                        Product_Name Product_Price  \\\n",
       "0                 Apple Iphone 13 (Midnight, 128 Gb)       ₹74,900   \n",
       "1  Hp Pavilion Ryzen 5 Hexa Core 5600H - (8 Gb/51...       ₹61,990   \n",
       "2  Redmi Note 10S (Deep Sea Blue, 128 Gb)  (8 Gb ...       ₹17,499   \n",
       "3  Acer Nitro 5 Ryzen 5 Hexa Core 4600H - (8 Gb/1...       ₹60,990   \n",
       "4  Acer Predator Helios 300 Octa Core I7 10Th Gen...     ₹1,09,990   \n",
       "5  Haier 6.5 Kg 5 Star Ariel Wash Fully Automatic...       ₹13,890   \n",
       "\n",
       "  Product_Discount                                      Product_Image  \n",
       "0           6% Off  https://rukminim1.flixcart.com/image/416/416/k...  \n",
       "1          11% Off  https://rukminim1.flixcart.com/image/416/416/k...  \n",
       "2          16% Off  https://rukminim1.flixcart.com/image/416/416/k...  \n",
       "3          39% Off  https://rukminim1.flixcart.com/image/416/416/k...  \n",
       "4          26% Off  https://rukminim1.flixcart.com/image/416/416/k...  \n",
       "5          33% Off  https://rukminim1.flixcart.com/image/416/416/k...  "
      ]
     },
     "execution_count": 5,
     "metadata": {},
     "output_type": "execute_result"
    }
   ],
   "source": [
    "# Display CSV file\n",
    "\n",
    "df = pd.read_csv(\"ecom_data.csv\")\n",
    "df"
   ]
  },
  {
   "cell_type": "code",
   "execution_count": null,
   "id": "47b13a56-7adc-4a0e-9c41-f68f01d3d76c",
   "metadata": {},
   "outputs": [],
   "source": []
  },
  {
   "cell_type": "code",
   "execution_count": null,
   "id": "230834ae-adc8-4fcc-8608-94e4360da4df",
   "metadata": {},
   "outputs": [],
   "source": []
  }
 ],
 "metadata": {
  "kernelspec": {
   "display_name": "Python 3 (ipykernel)",
   "language": "python",
   "name": "python3"
  },
  "language_info": {
   "codemirror_mode": {
    "name": "ipython",
    "version": 3
   },
   "file_extension": ".py",
   "mimetype": "text/x-python",
   "name": "python",
   "nbconvert_exporter": "python",
   "pygments_lexer": "ipython3",
   "version": "3.9.7"
  },
  "widgets": {
   "application/vnd.jupyter.widget-state+json": {
    "state": {},
    "version_major": 2,
    "version_minor": 0
   }
  }
 },
 "nbformat": 4,
 "nbformat_minor": 5
}
